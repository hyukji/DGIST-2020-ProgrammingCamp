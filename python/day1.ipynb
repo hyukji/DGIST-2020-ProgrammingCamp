{
 "cells": [
  {
   "cell_type": "code",
   "execution_count": 2,
   "metadata": {},
   "outputs": [
    {
     "name": "stdout",
     "output_type": "stream",
     "text": [
      "hello\n"
     ]
    }
   ],
   "source": [
    "print(\"hello\")"
   ]
  },
  {
   "cell_type": "code",
   "execution_count": null,
   "metadata": {
    "collapsed": true
   },
   "outputs": [],
   "source": []
  },
  {
   "cell_type": "code",
   "execution_count": 5,
   "metadata": {
    "collapsed": true
   },
   "outputs": [],
   "source": [
    "a=10"
   ]
  },
  {
   "cell_type": "code",
   "execution_count": 7,
   "metadata": {},
   "outputs": [
    {
     "name": "stdout",
     "output_type": "stream",
     "text": [
      "10\n"
     ]
    }
   ],
   "source": [
    "print(a)"
   ]
  },
  {
   "cell_type": "code",
   "execution_count": 3,
   "metadata": {},
   "outputs": [
    {
     "name": "stdout",
     "output_type": "stream",
     "text": [
      "['False', 'None', 'True', 'and', 'as', 'assert', 'break', 'class', 'continue', 'def', 'del', 'elif', 'else', 'except', 'finally', 'for', 'from', 'global', 'if', 'import', 'in', 'is', 'lambda', 'nonlocal', 'not', 'or', 'pass', 'raise', 'return', 'try', 'while', 'with', 'yield']\n"
     ]
    }
   ],
   "source": [
    "import keyword\n",
    "print(keyword.kwlist)"
   ]
  },
  {
   "cell_type": "code",
   "execution_count": 12,
   "metadata": {},
   "outputs": [
    {
     "name": "stdout",
     "output_type": "stream",
     "text": [
      "줄바꿈 도전 ㅇㅇ \n",
      " 성공\n"
     ]
    }
   ],
   "source": [
    "#주석처리하는 법\n",
    "print(\"줄바꿈 도전\",\"ㅇㅇ\",'\\n',\"성공\")"
   ]
  },
  {
   "cell_type": "code",
   "execution_count": 14,
   "metadata": {},
   "outputs": [
    {
     "name": "stdout",
     "output_type": "stream",
     "text": [
      "<class 'int'>\n"
     ]
    }
   ],
   "source": [
    "print(type(2))"
   ]
  },
  {
   "cell_type": "code",
   "execution_count": 18,
   "metadata": {},
   "outputs": [
    {
     "name": "stdout",
     "output_type": "stream",
     "text": [
      "\"안녕하세요\"\n",
      "'안녕하세요'\n"
     ]
    }
   ],
   "source": [
    "print('\"안녕하세요\"')\n",
    "print(\"'안녕하세요'\")"
   ]
  },
  {
   "cell_type": "code",
   "execution_count": 22,
   "metadata": {},
   "outputs": [
    {
     "name": "stdout",
     "output_type": "stream",
     "text": [
      "\t 탭누른 상태\n"
     ]
    }
   ],
   "source": [
    "print(\"\\t\", \"탭누른 상태\")"
   ]
  },
  {
   "cell_type": "code",
   "execution_count": 25,
   "metadata": {},
   "outputs": [
    {
     "name": "stdout",
     "output_type": "stream",
     "text": [
      "큰따음표가 세개면\n",
      "엔터도 인식해서\n",
      "여러줄이 가능합니다\n"
     ]
    }
   ],
   "source": [
    "print(\"\"\"큰따음표가 세개면\n",
    "엔터도 인식해서\n",
    "여러줄이 가능합니다\"\"\")"
   ]
  },
  {
   "cell_type": "code",
   "execution_count": 39,
   "metadata": {},
   "outputs": [
    {
     "name": "stdout",
     "output_type": "stream",
     "text": [
      "아령하세\n",
      "령하세요옷!\n",
      "7\n"
     ]
    }
   ],
   "source": [
    "s=\"아령하세요옷!\"\n",
    "print(s[0:4])\n",
    "print(s[1:])\n",
    "print(len(s))"
   ]
  },
  {
   "cell_type": "code",
   "execution_count": null,
   "metadata": {
    "collapsed": true
   },
   "outputs": [],
   "source": []
  },
  {
   "cell_type": "code",
   "execution_count": null,
   "metadata": {
    "collapsed": true
   },
   "outputs": [],
   "source": []
  },
  {
   "cell_type": "code",
   "execution_count": null,
   "metadata": {
    "collapsed": true
   },
   "outputs": [],
   "source": []
  },
  {
   "cell_type": "code",
   "execution_count": null,
   "metadata": {
    "collapsed": true
   },
   "outputs": [],
   "source": []
  },
  {
   "cell_type": "code",
   "execution_count": null,
   "metadata": {
    "collapsed": true
   },
   "outputs": [],
   "source": []
  },
  {
   "cell_type": "code",
   "execution_count": null,
   "metadata": {
    "collapsed": true
   },
   "outputs": [],
   "source": []
  },
  {
   "cell_type": "code",
   "execution_count": null,
   "metadata": {
    "collapsed": true
   },
   "outputs": [],
   "source": []
  },
  {
   "cell_type": "code",
   "execution_count": null,
   "metadata": {
    "collapsed": true
   },
   "outputs": [],
   "source": []
  },
  {
   "cell_type": "code",
   "execution_count": null,
   "metadata": {
    "collapsed": true
   },
   "outputs": [],
   "source": []
  },
  {
   "cell_type": "code",
   "execution_count": null,
   "metadata": {
    "collapsed": true
   },
   "outputs": [],
   "source": []
  },
  {
   "cell_type": "code",
   "execution_count": null,
   "metadata": {
    "collapsed": true
   },
   "outputs": [],
   "source": []
  },
  {
   "cell_type": "code",
   "execution_count": null,
   "metadata": {
    "collapsed": true
   },
   "outputs": [],
   "source": [
    "ss =input(\"인사말을 입력하세요> \")\n",
    "ss+=\"!!!!!!!!!\"\n",
    "print(\"당신이 한 인사말은\", ss)"
   ]
  },
  {
   "cell_type": "markdown",
   "metadata": {
    "collapsed": true
   },
   "source": [
    "# 덧셈 프로그램\n",
    "string_a = input(\"첫번째 숫자>\")\n",
    "int_a = int(string_a)\n",
    "string_b = input(\"두번째 숫자>\")\n",
    "int_b = int(string_b)\n",
    "c = int_a + int_b\n",
    "print(\"합=\", c)"
   ]
  },
  {
   "cell_type": "code",
   "execution_count": 14,
   "metadata": {},
   "outputs": [
    {
     "data": {
      "text/plain": [
       "'10만원의 2배는 20만원'"
      ]
     },
     "execution_count": 14,
     "metadata": {},
     "output_type": "execute_result"
    }
   ],
   "source": [
    "\"{}만원의 {}배는 {}만원\".format(10,2,20,40,60)"
   ]
  },
  {
   "cell_type": "code",
   "execution_count": 38,
   "metadata": {},
   "outputs": [
    {
     "name": "stdout",
     "output_type": "stream",
     "text": [
      "   52 \n",
      "   53\n"
     ]
    }
   ],
   "source": [
    "print(\"{:5d}\".format(52),\"\\n{:5d}\".format(53))"
   ]
  },
  {
   "cell_type": "code",
   "execution_count": 98,
   "metadata": {
    "scrolled": true
   },
   "outputs": [
    {
     "name": "stdout",
     "output_type": "stream",
     "text": [
      "sum of lotto is not valid\n",
      "\n",
      "[1, 11, 13, 33, 35, 37]\n",
      "sum of lotto is 130 \n",
      "\n",
      "[5, 15, 16, 30, 35, 41]\n",
      "sum of lotto is 142 \n",
      "\n",
      "[12, 13, 15, 19, 32, 39]\n",
      "sum of lotto is 130 \n",
      "\n",
      "sum of lotto is not valid\n",
      "\n",
      "sum of lotto is not valid\n",
      "\n",
      "[9, 22, 26, 34, 36, 38]\n",
      "sum of lotto is 165 \n",
      "\n",
      "[14, 15, 17, 23, 31, 41]\n",
      "sum of lotto is 141 \n",
      "\n"
     ]
    }
   ],
   "source": [
    "#로또 번호 생성기, sungback@naver.com\n",
    "#조건 1: 1~45 중 6개 뽑기(O)\n",
    "#조건 2: 정렬(O)\n",
    "#조건 3: 합이 100부터 170만 사용(O)\n",
    "#조건 4: 5게임()\n",
    "\n",
    "import random\n",
    "count =0\n",
    "while count < 5:\n",
    "    lotto = sorted(random.sample(range(1,46), 6))\n",
    "    s= sum(lotto)\n",
    "    if  100 <= s <=170:\n",
    "        print(lotto)\n",
    "        print(\"sum of lotto is\",s,\"\\n\")\n",
    "        count+=1\n",
    "    else:\n",
    "        print(\"sum of lotto is not valid\\n\")"
   ]
  },
  {
   "cell_type": "code",
   "execution_count": 99,
   "metadata": {},
   "outputs": [
    {
     "name": "stdout",
     "output_type": "stream",
     "text": [
      "0\n",
      "1\n",
      "2\n",
      "3\n",
      "4\n"
     ]
    }
   ],
   "source": [
    "hap=0\n",
    "i=0\n",
    "while i < 5:\n",
    "    print(i)\n",
    "    i+=1"
   ]
  },
  {
   "cell_type": "code",
   "execution_count": 100,
   "metadata": {},
   "outputs": [
    {
     "name": "stdout",
     "output_type": "stream",
     "text": [
      "2\n",
      "4\n"
     ]
    }
   ],
   "source": [
    "i=1\n",
    "while i <=5:\n",
    "    if i%2 == 0:\n",
    "        print(i)\n",
    "    i+=1;"
   ]
  }
 ],
 "metadata": {
  "kernelspec": {
   "display_name": "Python 3",
   "language": "python",
   "name": "python3"
  },
  "language_info": {
   "codemirror_mode": {
    "name": "ipython",
    "version": 3
   },
   "file_extension": ".py",
   "mimetype": "text/x-python",
   "name": "python",
   "nbconvert_exporter": "python",
   "pygments_lexer": "ipython3",
   "version": "3.6.2"
  }
 },
 "nbformat": 4,
 "nbformat_minor": 2
}
