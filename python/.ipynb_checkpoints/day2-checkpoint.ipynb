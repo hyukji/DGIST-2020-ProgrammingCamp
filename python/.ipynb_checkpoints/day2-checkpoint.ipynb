{
 "cells": [
  {
   "cell_type": "code",
   "execution_count": null,
   "metadata": {
    "collapsed": true
   },
   "outputs": [],
   "source": [
    "#자료구조 -> 데이터 관리 효율적이며 검색속도를 향상시킬 수 있다.\n",
    "# 1. list : [0,0]\n",
    "# 2. tuple : (0,0) 변경 불가.\n",
    "# 3. dictionary : {key: val, key: val} java의 json과 유사\n",
    "# 4. set : {0,#,$} 중복x,순서x\n"
   ]
  },
  {
   "cell_type": "code",
   "execution_count": null,
   "metadata": {
    "scrolled": true
   },
   "outputs": [],
   "source": [
    "#list\n",
    "\n",
    "list_a = [1,2,3]\n",
    "list_b = [4,5,6]\n",
    "list_c = list_a+list_b\n",
    "print(list_c)\n",
    "print(list_a * 3)\n",
    "\n",
    "list_a.append(7) #리스트에 요소를 추가\n",
    "print(list_a)\n",
    "\n",
    "list_a.insert(1,0) #리스트 중간에 요소를 추가 (위치, 요소)\n",
    "print(list_a)\n",
    "\n",
    "list_a.extend([8,9,10]) #리스트 추가, extend는 파괴적, +는 비파괴적\n",
    "print(list_a)\n",
    "\n",
    "del list_a[7] #7번째 요소 지우기\n",
    "list_a.pop(1) #1번째 요소 지우기\n",
    "print(list_a)\n",
    "\n",
    "del list_a[3:6] #구간으로 지우기\n",
    "print(list_a)\n",
    "\n",
    "list_a.remove(2) #특정값 지정해서 지우기\n",
    "print(list_a)\n",
    "\n",
    "list_a.clear()\n",
    "print(list_a)\n",
    "\n",
    "4 in list_b    #내부 존재 확인 T/F\n",
    "\n",
    "for ele in list_b:  #list for문으로 돌릴 수 있음.\n",
    "    print(ele)"
   ]
  },
  {
   "cell_type": "markdown",
   "metadata": {},
   "source": [
    "#난수로 숫자 3개 \n",
    "#입력으로 숫자 3개 입력받기\n",
    "#입력받은 숫자가 위치와 값이 같다면 STRIKE\n",
    "#숫자만 맞으면 BALL을 출력.\n",
    "\n",
    "print(\"숫자야구 게임 시작!\\n\")\n",
    "import random\n",
    "ans = random.sample(range(1,10),3)\n",
    "res = {\"STRIKE\":0,\"BALL\":0}\n",
    "while res[\"STRIKE\"] !=3:\n",
    "    res[\"STRIKE\"] =0\n",
    "    res[\"BALL\"] =0\n",
    "    input_data = input(\"Enter your number ex)123 : \")\n",
    "    for i in range(0,3):\n",
    "        a = int(input_data[i])\n",
    "        if a not in ans:\n",
    "            pass\n",
    "        elif a == ans[i]:\n",
    "            res[\"STRIKE\"] +=1\n",
    "        else:\n",
    "            res[\"BALL\"] +=1\n",
    "    print(res[\"STRIKE\"],\"STRIKE,\",res[\"BALL\"],\"BALL\")\n",
    "    \n",
    "print(\"answer is\",ans)"
   ]
  },
  {
   "cell_type": "code",
   "execution_count": null,
   "metadata": {
    "scrolled": false
   },
   "outputs": [],
   "source": [
    "#dictionary\n",
    "\n",
    "dict_a = {      #기본적인 dict선언\n",
    "    \"key1\" : 10,\n",
    "    \"key2\" : [1,2,3,4,5]}\n",
    "\n",
    "print(dict_a[\"key1\"])      #value값 가져오기\n",
    "print(dict_a[\"key2\"][2])\n",
    "\n",
    "dict_a[\"key1\"] = 30        #value 값 변경\n",
    "dict_a[\"key3\"] = 130       #새로운 값 추가.\n",
    "print(dict_a)\n",
    "\n",
    "del dict_a[\"key2\"]         #key, value 지우기\n",
    "print(dict_a)\n",
    "\n",
    "for key in dict_a:\n",
    "    print(key,\":\",dict_a[key])\n",
    "    \n",
    "list(range(0,(10//2),2))\n",
    "list(range(4,-1,-1))"
   ]
  },
  {
   "cell_type": "code",
   "execution_count": null,
   "metadata": {},
   "outputs": [],
   "source": [
    "numbers=[10,21,3,2,6,5,1]\n",
    "print(min(numbers))\n",
    "print(max(numbers))\n",
    "print(sum(numbers))\n",
    "print(reversed(numbers)) \n",
    "print(list(reversed(numbers)))  #주의 list함수 필요\n",
    "\n",
    "for i,value in enumerate(numbers):\n",
    "    print(\"{}번째 요소는 {}입니다\".format(i,value))\n"
   ]
  },
  {
   "cell_type": "code",
   "execution_count": null,
   "metadata": {},
   "outputs": [],
   "source": [
    "dict_a = {     \n",
    "    \"keyA\" : \"valA\",\n",
    "    \"keyB\" : \"valB\", \n",
    "    \"keyC\" : \"valC\"}\n",
    "\n",
    "print(dict_a.items())\n",
    "\n",
    "for k, v in dict_a.items():     #dictionary는 for문 돌리려면 itmes()해주어야함\n",
    "    print(\"dictionanary[{}] = {}\".format(k,v))\n",
    "    \n"
   ]
  },
  {
   "cell_type": "code",
   "execution_count": null,
   "metadata": {},
   "outputs": [],
   "source": [
    "array1=[]\n",
    "\n",
    "for i in range(0,20,2):\n",
    "    array1.append(i*i)\n",
    "print(array1)\n",
    "\n",
    "array2=[i*i for i in range(0,20,2)]      #리스트내포\n",
    "print(array2)\n",
    "\n",
    "array3=[num for num in array1 if num %8 ==0]\n",
    "print(array3)"
   ]
  },
  {
   "cell_type": "code",
   "execution_count": null,
   "metadata": {},
   "outputs": [],
   "source": [
    "def function(*values, valuea=20, valueb=30):\n",
    "    print(values)\n",
    "function(1,2,3,\"\")\n",
    "\n",
    "def sum_all(start=0, end=100, step=1):\n",
    "    output =0\n",
    "    for i in range(start, end+1, step):\n",
    "        output += i\n",
    "    return output\n",
    "\n",
    "print(sum_all(0,100,10))\n",
    "print(sum_all(end=100))\n",
    "print(sum_all(step=5))"
   ]
  },
  {
   "cell_type": "code",
   "execution_count": null,
   "metadata": {},
   "outputs": [],
   "source": [
    "#피보나치 수열(재귀함수)\n",
    "\n",
    "def fibo(n):\n",
    "    if n == 1:\n",
    "        return 1\n",
    "    elif n == 2:\n",
    "        return 1\n",
    "    else:\n",
    "        return fibo(n-1)+fibo(n-2)\n",
    "    \n",
    "print(fibo(5))\n",
    "\n",
    "#이 방법은 시간이 너무 오래 투자됨. 중간에 메모해주는 기능 추가!\n",
    "\n",
    "dic = {1:1,2:1}\n",
    "def fibo2(n):\n",
    "    if n in dic:\n",
    "        return dic[n]\n",
    "    res =fibo2(n-1)+fibo2(n-2)\n",
    "    dic[n] = res\n",
    "    return res\n",
    "\n",
    "\n",
    "print(fibo(5))\n"
   ]
  },
  {
   "cell_type": "code",
   "execution_count": 3,
   "metadata": {},
   "outputs": [
    {
     "name": "stdout",
     "output_type": "stream",
     "text": [
      "5 6\n",
      "hi\n",
      "hi\n",
      "hi\n",
      "hi\n",
      "hi\n"
     ]
    }
   ],
   "source": [
    "#튜플은 수정이 불가함.\n",
    "def add_mul(a,b):\n",
    "    c=a+b\n",
    "    d=a*b\n",
    "    return(c,d)\n",
    "\n",
    "a,b = add_mul(2,3)\n",
    "print(a,b)\n",
    "\n",
    "def time10(func):\n",
    "    for i in range(5):\n",
    "        func()\n",
    "\n",
    "def hi():\n",
    "    print(\"hi\")\n",
    "    \n",
    "time10(hi)"
   ]
  },
  {
   "cell_type": "code",
   "execution_count": 4,
   "metadata": {
    "scrolled": true
   },
   "outputs": [
    {
     "name": "stdout",
     "output_type": "stream",
     "text": [
      "숫자야구 게임 시작!\n",
      "\n",
      "Enter your number ex)123 : 123\n",
      "1 STRIKE, 0 BALL\n",
      "Enter your number ex)123 : 345\n",
      "1 STRIKE, 1 BALL\n",
      "Enter your number ex)123 : 1\n"
     ]
    },
    {
     "ename": "IndexError",
     "evalue": "string index out of range",
     "output_type": "error",
     "traceback": [
      "\u001b[1;31m---------------------------------------------------------------------------\u001b[0m",
      "\u001b[1;31mIndexError\u001b[0m                                Traceback (most recent call last)",
      "\u001b[1;32m<ipython-input-4-9d6fe4433543>\u001b[0m in \u001b[0;36m<module>\u001b[1;34m()\u001b[0m\n\u001b[0;32m     13\u001b[0m     \u001b[0minput_data\u001b[0m \u001b[1;33m=\u001b[0m \u001b[0minput\u001b[0m\u001b[1;33m(\u001b[0m\u001b[1;34m\"Enter your number ex)123 : \"\u001b[0m\u001b[1;33m)\u001b[0m\u001b[1;33m\u001b[0m\u001b[0m\n\u001b[0;32m     14\u001b[0m     \u001b[1;32mfor\u001b[0m \u001b[0mi\u001b[0m \u001b[1;32min\u001b[0m \u001b[0mrange\u001b[0m\u001b[1;33m(\u001b[0m\u001b[1;36m0\u001b[0m\u001b[1;33m,\u001b[0m\u001b[1;36m3\u001b[0m\u001b[1;33m)\u001b[0m\u001b[1;33m:\u001b[0m\u001b[1;33m\u001b[0m\u001b[0m\n\u001b[1;32m---> 15\u001b[1;33m         \u001b[0ma\u001b[0m \u001b[1;33m=\u001b[0m \u001b[0mint\u001b[0m\u001b[1;33m(\u001b[0m\u001b[0minput_data\u001b[0m\u001b[1;33m[\u001b[0m\u001b[0mi\u001b[0m\u001b[1;33m]\u001b[0m\u001b[1;33m)\u001b[0m\u001b[1;33m\u001b[0m\u001b[0m\n\u001b[0m\u001b[0;32m     16\u001b[0m         \u001b[1;32mif\u001b[0m \u001b[0ma\u001b[0m \u001b[1;32mnot\u001b[0m \u001b[1;32min\u001b[0m \u001b[0mans\u001b[0m\u001b[1;33m:\u001b[0m\u001b[1;33m\u001b[0m\u001b[0m\n\u001b[0;32m     17\u001b[0m             \u001b[1;32mpass\u001b[0m\u001b[1;33m\u001b[0m\u001b[0m\n",
      "\u001b[1;31mIndexError\u001b[0m: string index out of range"
     ]
    }
   ],
   "source": [
    "#난수로 숫자 3개 \n",
    "#입력으로 숫자 3개 입력받기\n",
    "#입력받은 숫자가 위치와 값이 같다면 STRIKE\n",
    "#숫자만 맞으면 BALL을 출력.\n",
    "\n",
    "print(\"숫자야구 게임 시작!\\n\") \n",
    "import random \n",
    "ans = random.sample(range(1,10),3) \n",
    "res = {\"STRIKE\":0,\"BALL\":0} \n",
    "while res[\"STRIKE\"] !=3:\n",
    "    res[\"STRIKE\"] =0\n",
    "    res[\"BALL\"] =0\n",
    "    input_data = input(\"Enter your number ex)123 : \")\n",
    "    for i in range(0,3):\n",
    "        a = int(input_data[i])\n",
    "        if a not in ans:\n",
    "            pass\n",
    "        elif a == ans[i]:\n",
    "            res[\"STRIKE\"] +=1\n",
    "        else:\n",
    "            res[\"BALL\"] +=1\n",
    "            \n",
    "    print(res[\"STRIKE\"],\"STRIKE,\",res[\"BALL\"],\"BALL\")\n",
    "\n",
    "print(\"answer is\",ans)\n"
   ]
  },
  {
   "cell_type": "code",
   "execution_count": 14,
   "metadata": {},
   "outputs": [
    {
     "name": "stdout",
     "output_type": "stream",
     "text": [
      "[1, 4, 9, 16, 25]\n",
      "[None, None, None, None, None]\n"
     ]
    }
   ],
   "source": [
    "#map(함수, 리스트)\n",
    "def power(item):\n",
    "    return item*item\n",
    "\n",
    "def under_3(item):\n",
    "    return item < 3\n",
    "        \n",
    "list_a = [1,2,3,4,5]\n",
    "\n",
    "output_a = map(power,list_a)\n",
    "\n",
    "output_b = map(under_3,list_a)\n",
    "\n",
    "print(list(output_a))\n",
    "print(list(output_b))"
   ]
  },
  {
   "cell_type": "code",
   "execution_count": null,
   "metadata": {
    "collapsed": true
   },
   "outputs": [],
   "source": []
  }
 ],
 "metadata": {
  "kernelspec": {
   "display_name": "Python 3",
   "language": "python",
   "name": "python3"
  },
  "language_info": {
   "codemirror_mode": {
    "name": "ipython",
    "version": 3
   },
   "file_extension": ".py",
   "mimetype": "text/x-python",
   "name": "python",
   "nbconvert_exporter": "python",
   "pygments_lexer": "ipython3",
   "version": "3.6.2"
  }
 },
 "nbformat": 4,
 "nbformat_minor": 2
}
