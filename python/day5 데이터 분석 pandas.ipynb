{
 "cells": [
  {
   "cell_type": "code",
   "execution_count": 2,
   "metadata": {
    "collapsed": true
   },
   "outputs": [],
   "source": [
    "# 데이터 분석 pandas\n",
    "# pandas의 Series는 python의 list같은 거임.\n",
    "# DataFrame은 덱셀같은것.\n",
    "\n",
    "#성적데이터 분석\n",
    "%matplotlib inline\n"
   ]
  },
  {
   "cell_type": "code",
   "execution_count": 3,
   "metadata": {
    "collapsed": true
   },
   "outputs": [],
   "source": [
    "import numpy as np\n",
    "import pandas as pd\n",
    "import matplotlib.pyplot as plt\n",
    "import scipy.stats as stats\n"
   ]
  },
  {
   "cell_type": "code",
   "execution_count": 15,
   "metadata": {
    "collapsed": true
   },
   "outputs": [],
   "source": [
    "df = pd.read_csv(\"dataset/score.csv\")"
   ]
  },
  {
   "cell_type": "code",
   "execution_count": 44,
   "metadata": {},
   "outputs": [
    {
     "data": {
      "text/html": [
       "<div>\n",
       "<style>\n",
       "    .dataframe thead tr:only-child th {\n",
       "        text-align: right;\n",
       "    }\n",
       "\n",
       "    .dataframe thead th {\n",
       "        text-align: left;\n",
       "    }\n",
       "\n",
       "    .dataframe tbody tr th {\n",
       "        vertical-align: top;\n",
       "    }\n",
       "</style>\n",
       "<table border=\"1\" class=\"dataframe\">\n",
       "  <thead>\n",
       "    <tr style=\"text-align: right;\">\n",
       "      <th></th>\n",
       "      <th>반</th>\n",
       "      <th>이름</th>\n",
       "      <th>국어</th>\n",
       "      <th>영어</th>\n",
       "      <th>수학</th>\n",
       "      <th>과학</th>\n",
       "      <th>총점</th>\n",
       "      <th>평균</th>\n",
       "    </tr>\n",
       "  </thead>\n",
       "  <tbody>\n",
       "    <tr>\n",
       "      <th>0</th>\n",
       "      <td>1</td>\n",
       "      <td>성춘향</td>\n",
       "      <td>67</td>\n",
       "      <td>87</td>\n",
       "      <td>90</td>\n",
       "      <td>98</td>\n",
       "      <td>342</td>\n",
       "      <td>85.50</td>\n",
       "    </tr>\n",
       "    <tr>\n",
       "      <th>1</th>\n",
       "      <td>1</td>\n",
       "      <td>이몽룡</td>\n",
       "      <td>45</td>\n",
       "      <td>45</td>\n",
       "      <td>56</td>\n",
       "      <td>98</td>\n",
       "      <td>244</td>\n",
       "      <td>61.00</td>\n",
       "    </tr>\n",
       "    <tr>\n",
       "      <th>2</th>\n",
       "      <td>1</td>\n",
       "      <td>향단이</td>\n",
       "      <td>95</td>\n",
       "      <td>59</td>\n",
       "      <td>96</td>\n",
       "      <td>88</td>\n",
       "      <td>338</td>\n",
       "      <td>84.50</td>\n",
       "    </tr>\n",
       "    <tr>\n",
       "      <th>3</th>\n",
       "      <td>1</td>\n",
       "      <td>방자</td>\n",
       "      <td>65</td>\n",
       "      <td>94</td>\n",
       "      <td>89</td>\n",
       "      <td>98</td>\n",
       "      <td>346</td>\n",
       "      <td>86.50</td>\n",
       "    </tr>\n",
       "    <tr>\n",
       "      <th>4</th>\n",
       "      <td>1</td>\n",
       "      <td>월매</td>\n",
       "      <td>45</td>\n",
       "      <td>65</td>\n",
       "      <td>78</td>\n",
       "      <td>98</td>\n",
       "      <td>286</td>\n",
       "      <td>71.50</td>\n",
       "    </tr>\n",
       "    <tr>\n",
       "      <th>5</th>\n",
       "      <td>1</td>\n",
       "      <td>변학도</td>\n",
       "      <td>78</td>\n",
       "      <td>76</td>\n",
       "      <td>98</td>\n",
       "      <td>89</td>\n",
       "      <td>341</td>\n",
       "      <td>85.25</td>\n",
       "    </tr>\n",
       "    <tr>\n",
       "      <th>6</th>\n",
       "      <td>2</td>\n",
       "      <td>홍길동</td>\n",
       "      <td>87</td>\n",
       "      <td>67</td>\n",
       "      <td>65</td>\n",
       "      <td>56</td>\n",
       "      <td>275</td>\n",
       "      <td>68.75</td>\n",
       "    </tr>\n",
       "    <tr>\n",
       "      <th>7</th>\n",
       "      <td>2</td>\n",
       "      <td>임꺽정</td>\n",
       "      <td>89</td>\n",
       "      <td>98</td>\n",
       "      <td>78</td>\n",
       "      <td>78</td>\n",
       "      <td>343</td>\n",
       "      <td>85.75</td>\n",
       "    </tr>\n",
       "    <tr>\n",
       "      <th>8</th>\n",
       "      <td>2</td>\n",
       "      <td>전우치</td>\n",
       "      <td>100</td>\n",
       "      <td>78</td>\n",
       "      <td>56</td>\n",
       "      <td>65</td>\n",
       "      <td>299</td>\n",
       "      <td>74.75</td>\n",
       "    </tr>\n",
       "    <tr>\n",
       "      <th>9</th>\n",
       "      <td>2</td>\n",
       "      <td>일지매</td>\n",
       "      <td>99</td>\n",
       "      <td>89</td>\n",
       "      <td>87</td>\n",
       "      <td>87</td>\n",
       "      <td>362</td>\n",
       "      <td>90.50</td>\n",
       "    </tr>\n",
       "    <tr>\n",
       "      <th>10</th>\n",
       "      <td>2</td>\n",
       "      <td>심청</td>\n",
       "      <td>98</td>\n",
       "      <td>45</td>\n",
       "      <td>56</td>\n",
       "      <td>54</td>\n",
       "      <td>253</td>\n",
       "      <td>63.25</td>\n",
       "    </tr>\n",
       "    <tr>\n",
       "      <th>11</th>\n",
       "      <td>2</td>\n",
       "      <td>콩쥐</td>\n",
       "      <td>65</td>\n",
       "      <td>89</td>\n",
       "      <td>87</td>\n",
       "      <td>78</td>\n",
       "      <td>319</td>\n",
       "      <td>79.75</td>\n",
       "    </tr>\n",
       "  </tbody>\n",
       "</table>\n",
       "</div>"
      ],
      "text/plain": [
       "    반   이름   국어  영어  수학  과학   총점     평균\n",
       "0   1  성춘향   67  87  90  98  342  85.50\n",
       "1   1  이몽룡   45  45  56  98  244  61.00\n",
       "2   1  향단이   95  59  96  88  338  84.50\n",
       "3   1   방자   65  94  89  98  346  86.50\n",
       "4   1   월매   45  65  78  98  286  71.50\n",
       "5   1  변학도   78  76  98  89  341  85.25\n",
       "6   2  홍길동   87  67  65  56  275  68.75\n",
       "7   2  임꺽정   89  98  78  78  343  85.75\n",
       "8   2  전우치  100  78  56  65  299  74.75\n",
       "9   2  일지매   99  89  87  87  362  90.50\n",
       "10  2   심청   98  45  56  54  253  63.25\n",
       "11  2   콩쥐   65  89  87  78  319  79.75"
      ]
     },
     "execution_count": 44,
     "metadata": {},
     "output_type": "execute_result"
    }
   ],
   "source": [
    "subjects = ['국어','영어','수학','과학']\n",
    "df['총점'] = df[subjects].sum(axis=1)#0=행, 1=열\n",
    "df['평균'] = df['총점'] / len(subjects)\n",
    "df"
   ]
  },
  {
   "cell_type": "code",
   "execution_count": 50,
   "metadata": {},
   "outputs": [
    {
     "data": {
      "text/html": [
       "<div>\n",
       "<style>\n",
       "    .dataframe thead tr:only-child th {\n",
       "        text-align: right;\n",
       "    }\n",
       "\n",
       "    .dataframe thead th {\n",
       "        text-align: left;\n",
       "    }\n",
       "\n",
       "    .dataframe tbody tr th {\n",
       "        vertical-align: top;\n",
       "    }\n",
       "</style>\n",
       "<table border=\"1\" class=\"dataframe\">\n",
       "  <thead>\n",
       "    <tr style=\"text-align: right;\">\n",
       "      <th></th>\n",
       "      <th>반</th>\n",
       "      <th>이름</th>\n",
       "      <th>국어</th>\n",
       "      <th>영어</th>\n",
       "      <th>수학</th>\n",
       "      <th>과학</th>\n",
       "      <th>총점</th>\n",
       "      <th>평균</th>\n",
       "    </tr>\n",
       "  </thead>\n",
       "  <tbody>\n",
       "    <tr>\n",
       "      <th>9</th>\n",
       "      <td>2</td>\n",
       "      <td>일지매</td>\n",
       "      <td>99</td>\n",
       "      <td>89</td>\n",
       "      <td>87</td>\n",
       "      <td>87</td>\n",
       "      <td>362</td>\n",
       "      <td>90.50</td>\n",
       "    </tr>\n",
       "    <tr>\n",
       "      <th>3</th>\n",
       "      <td>1</td>\n",
       "      <td>방자</td>\n",
       "      <td>65</td>\n",
       "      <td>94</td>\n",
       "      <td>89</td>\n",
       "      <td>98</td>\n",
       "      <td>346</td>\n",
       "      <td>86.50</td>\n",
       "    </tr>\n",
       "    <tr>\n",
       "      <th>7</th>\n",
       "      <td>2</td>\n",
       "      <td>임꺽정</td>\n",
       "      <td>89</td>\n",
       "      <td>98</td>\n",
       "      <td>78</td>\n",
       "      <td>78</td>\n",
       "      <td>343</td>\n",
       "      <td>85.75</td>\n",
       "    </tr>\n",
       "    <tr>\n",
       "      <th>0</th>\n",
       "      <td>1</td>\n",
       "      <td>성춘향</td>\n",
       "      <td>67</td>\n",
       "      <td>87</td>\n",
       "      <td>90</td>\n",
       "      <td>98</td>\n",
       "      <td>342</td>\n",
       "      <td>85.50</td>\n",
       "    </tr>\n",
       "    <tr>\n",
       "      <th>5</th>\n",
       "      <td>1</td>\n",
       "      <td>변학도</td>\n",
       "      <td>78</td>\n",
       "      <td>76</td>\n",
       "      <td>98</td>\n",
       "      <td>89</td>\n",
       "      <td>341</td>\n",
       "      <td>85.25</td>\n",
       "    </tr>\n",
       "    <tr>\n",
       "      <th>2</th>\n",
       "      <td>1</td>\n",
       "      <td>향단이</td>\n",
       "      <td>95</td>\n",
       "      <td>59</td>\n",
       "      <td>96</td>\n",
       "      <td>88</td>\n",
       "      <td>338</td>\n",
       "      <td>84.50</td>\n",
       "    </tr>\n",
       "    <tr>\n",
       "      <th>11</th>\n",
       "      <td>2</td>\n",
       "      <td>콩쥐</td>\n",
       "      <td>65</td>\n",
       "      <td>89</td>\n",
       "      <td>87</td>\n",
       "      <td>78</td>\n",
       "      <td>319</td>\n",
       "      <td>79.75</td>\n",
       "    </tr>\n",
       "    <tr>\n",
       "      <th>8</th>\n",
       "      <td>2</td>\n",
       "      <td>전우치</td>\n",
       "      <td>100</td>\n",
       "      <td>78</td>\n",
       "      <td>56</td>\n",
       "      <td>65</td>\n",
       "      <td>299</td>\n",
       "      <td>74.75</td>\n",
       "    </tr>\n",
       "    <tr>\n",
       "      <th>4</th>\n",
       "      <td>1</td>\n",
       "      <td>월매</td>\n",
       "      <td>45</td>\n",
       "      <td>65</td>\n",
       "      <td>78</td>\n",
       "      <td>98</td>\n",
       "      <td>286</td>\n",
       "      <td>71.50</td>\n",
       "    </tr>\n",
       "    <tr>\n",
       "      <th>6</th>\n",
       "      <td>2</td>\n",
       "      <td>홍길동</td>\n",
       "      <td>87</td>\n",
       "      <td>67</td>\n",
       "      <td>65</td>\n",
       "      <td>56</td>\n",
       "      <td>275</td>\n",
       "      <td>68.75</td>\n",
       "    </tr>\n",
       "    <tr>\n",
       "      <th>10</th>\n",
       "      <td>2</td>\n",
       "      <td>심청</td>\n",
       "      <td>98</td>\n",
       "      <td>45</td>\n",
       "      <td>56</td>\n",
       "      <td>54</td>\n",
       "      <td>253</td>\n",
       "      <td>63.25</td>\n",
       "    </tr>\n",
       "    <tr>\n",
       "      <th>1</th>\n",
       "      <td>1</td>\n",
       "      <td>이몽룡</td>\n",
       "      <td>45</td>\n",
       "      <td>45</td>\n",
       "      <td>56</td>\n",
       "      <td>98</td>\n",
       "      <td>244</td>\n",
       "      <td>61.00</td>\n",
       "    </tr>\n",
       "  </tbody>\n",
       "</table>\n",
       "</div>"
      ],
      "text/plain": [
       "    반   이름   국어  영어  수학  과학   총점     평균\n",
       "9   2  일지매   99  89  87  87  362  90.50\n",
       "3   1   방자   65  94  89  98  346  86.50\n",
       "7   2  임꺽정   89  98  78  78  343  85.75\n",
       "0   1  성춘향   67  87  90  98  342  85.50\n",
       "5   1  변학도   78  76  98  89  341  85.25\n",
       "2   1  향단이   95  59  96  88  338  84.50\n",
       "11  2   콩쥐   65  89  87  78  319  79.75\n",
       "8   2  전우치  100  78  56  65  299  74.75\n",
       "4   1   월매   45  65  78  98  286  71.50\n",
       "6   2  홍길동   87  67  65  56  275  68.75\n",
       "10  2   심청   98  45  56  54  253  63.25\n",
       "1   1  이몽룡   45  45  56  98  244  61.00"
      ]
     },
     "execution_count": 50,
     "metadata": {},
     "output_type": "execute_result"
    }
   ],
   "source": [
    "sorted_df = df.sort_values(['평균'], ascending=[False])\n",
    "sorted_df"
   ]
  },
  {
   "cell_type": "code",
   "execution_count": 53,
   "metadata": {},
   "outputs": [
    {
     "data": {
      "text/html": [
       "<div>\n",
       "<style>\n",
       "    .dataframe thead tr:only-child th {\n",
       "        text-align: right;\n",
       "    }\n",
       "\n",
       "    .dataframe thead th {\n",
       "        text-align: left;\n",
       "    }\n",
       "\n",
       "    .dataframe tbody tr th {\n",
       "        vertical-align: top;\n",
       "    }\n",
       "</style>\n",
       "<table border=\"1\" class=\"dataframe\">\n",
       "  <thead>\n",
       "    <tr style=\"text-align: right;\">\n",
       "      <th></th>\n",
       "      <th>반</th>\n",
       "      <th>이름</th>\n",
       "      <th>국어</th>\n",
       "      <th>영어</th>\n",
       "      <th>수학</th>\n",
       "      <th>과학</th>\n",
       "      <th>총점</th>\n",
       "      <th>평균</th>\n",
       "    </tr>\n",
       "    <tr>\n",
       "      <th>이름</th>\n",
       "      <th></th>\n",
       "      <th></th>\n",
       "      <th></th>\n",
       "      <th></th>\n",
       "      <th></th>\n",
       "      <th></th>\n",
       "      <th></th>\n",
       "      <th></th>\n",
       "    </tr>\n",
       "  </thead>\n",
       "  <tbody>\n",
       "    <tr>\n",
       "      <th>일지매</th>\n",
       "      <td>2</td>\n",
       "      <td>일지매</td>\n",
       "      <td>99</td>\n",
       "      <td>89</td>\n",
       "      <td>87</td>\n",
       "      <td>87</td>\n",
       "      <td>362</td>\n",
       "      <td>90.50</td>\n",
       "    </tr>\n",
       "    <tr>\n",
       "      <th>방자</th>\n",
       "      <td>1</td>\n",
       "      <td>방자</td>\n",
       "      <td>65</td>\n",
       "      <td>94</td>\n",
       "      <td>89</td>\n",
       "      <td>98</td>\n",
       "      <td>346</td>\n",
       "      <td>86.50</td>\n",
       "    </tr>\n",
       "    <tr>\n",
       "      <th>임꺽정</th>\n",
       "      <td>2</td>\n",
       "      <td>임꺽정</td>\n",
       "      <td>89</td>\n",
       "      <td>98</td>\n",
       "      <td>78</td>\n",
       "      <td>78</td>\n",
       "      <td>343</td>\n",
       "      <td>85.75</td>\n",
       "    </tr>\n",
       "    <tr>\n",
       "      <th>성춘향</th>\n",
       "      <td>1</td>\n",
       "      <td>성춘향</td>\n",
       "      <td>67</td>\n",
       "      <td>87</td>\n",
       "      <td>90</td>\n",
       "      <td>98</td>\n",
       "      <td>342</td>\n",
       "      <td>85.50</td>\n",
       "    </tr>\n",
       "    <tr>\n",
       "      <th>변학도</th>\n",
       "      <td>1</td>\n",
       "      <td>변학도</td>\n",
       "      <td>78</td>\n",
       "      <td>76</td>\n",
       "      <td>98</td>\n",
       "      <td>89</td>\n",
       "      <td>341</td>\n",
       "      <td>85.25</td>\n",
       "    </tr>\n",
       "    <tr>\n",
       "      <th>향단이</th>\n",
       "      <td>1</td>\n",
       "      <td>향단이</td>\n",
       "      <td>95</td>\n",
       "      <td>59</td>\n",
       "      <td>96</td>\n",
       "      <td>88</td>\n",
       "      <td>338</td>\n",
       "      <td>84.50</td>\n",
       "    </tr>\n",
       "    <tr>\n",
       "      <th>콩쥐</th>\n",
       "      <td>2</td>\n",
       "      <td>콩쥐</td>\n",
       "      <td>65</td>\n",
       "      <td>89</td>\n",
       "      <td>87</td>\n",
       "      <td>78</td>\n",
       "      <td>319</td>\n",
       "      <td>79.75</td>\n",
       "    </tr>\n",
       "    <tr>\n",
       "      <th>전우치</th>\n",
       "      <td>2</td>\n",
       "      <td>전우치</td>\n",
       "      <td>100</td>\n",
       "      <td>78</td>\n",
       "      <td>56</td>\n",
       "      <td>65</td>\n",
       "      <td>299</td>\n",
       "      <td>74.75</td>\n",
       "    </tr>\n",
       "    <tr>\n",
       "      <th>월매</th>\n",
       "      <td>1</td>\n",
       "      <td>월매</td>\n",
       "      <td>45</td>\n",
       "      <td>65</td>\n",
       "      <td>78</td>\n",
       "      <td>98</td>\n",
       "      <td>286</td>\n",
       "      <td>71.50</td>\n",
       "    </tr>\n",
       "    <tr>\n",
       "      <th>홍길동</th>\n",
       "      <td>2</td>\n",
       "      <td>홍길동</td>\n",
       "      <td>87</td>\n",
       "      <td>67</td>\n",
       "      <td>65</td>\n",
       "      <td>56</td>\n",
       "      <td>275</td>\n",
       "      <td>68.75</td>\n",
       "    </tr>\n",
       "    <tr>\n",
       "      <th>심청</th>\n",
       "      <td>2</td>\n",
       "      <td>심청</td>\n",
       "      <td>98</td>\n",
       "      <td>45</td>\n",
       "      <td>56</td>\n",
       "      <td>54</td>\n",
       "      <td>253</td>\n",
       "      <td>63.25</td>\n",
       "    </tr>\n",
       "    <tr>\n",
       "      <th>이몽룡</th>\n",
       "      <td>1</td>\n",
       "      <td>이몽룡</td>\n",
       "      <td>45</td>\n",
       "      <td>45</td>\n",
       "      <td>56</td>\n",
       "      <td>98</td>\n",
       "      <td>244</td>\n",
       "      <td>61.00</td>\n",
       "    </tr>\n",
       "  </tbody>\n",
       "</table>\n",
       "</div>"
      ],
      "text/plain": [
       "     반   이름   국어  영어  수학  과학   총점     평균\n",
       "이름                                      \n",
       "일지매  2  일지매   99  89  87  87  362  90.50\n",
       "방자   1   방자   65  94  89  98  346  86.50\n",
       "임꺽정  2  임꺽정   89  98  78  78  343  85.75\n",
       "성춘향  1  성춘향   67  87  90  98  342  85.50\n",
       "변학도  1  변학도   78  76  98  89  341  85.25\n",
       "향단이  1  향단이   95  59  96  88  338  84.50\n",
       "콩쥐   2   콩쥐   65  89  87  78  319  79.75\n",
       "전우치  2  전우치  100  78  56  65  299  74.75\n",
       "월매   1   월매   45  65  78  98  286  71.50\n",
       "홍길동  2  홍길동   87  67  65  56  275  68.75\n",
       "심청   2   심청   98  45  56  54  253  63.25\n",
       "이몽룡  1  이몽룡   45  45  56  98  244  61.00"
      ]
     },
     "execution_count": 53,
     "metadata": {},
     "output_type": "execute_result"
    }
   ],
   "source": [
    "sorted_df.index = sorted_df['이름']\n",
    "sorted_df"
   ]
  },
  {
   "cell_type": "code",
   "execution_count": 61,
   "metadata": {
    "scrolled": false
   },
   "outputs": [
    {
     "data": {
      "text/plain": [
       "<matplotlib.axes._subplots.AxesSubplot at 0x2c2f0af9ef0>"
      ]
     },
     "execution_count": 61,
     "metadata": {},
     "output_type": "execute_result"
    },
    {
     "data": {
      "image/png": "[encoded data removed]",
      "text/plain": [
       "<matplotlib.figure.Figure at 0x2c2f0aa8e48>"
      ]
     },
     "metadata": {},
     "output_type": "display_data"
    }
   ],
   "source": [
    "import matplotlib\n",
    "matplotlib.rc('font', family='Malgun Gothic')\n",
    "sorted_df['평균'].plot(kind='bar')\n",
    "\n"
   ]
  },
  {
   "cell_type": "code",
   "execution_count": 71,
   "metadata": {},
   "outputs": [
    {
     "data": {
      "text/html": [
       "<div>\n",
       "<style>\n",
       "    .dataframe thead tr:only-child th {\n",
       "        text-align: right;\n",
       "    }\n",
       "\n",
       "    .dataframe thead th {\n",
       "        text-align: left;\n",
       "    }\n",
       "\n",
       "    .dataframe tbody tr th {\n",
       "        vertical-align: top;\n",
       "    }\n",
       "</style>\n",
       "<table border=\"1\" class=\"dataframe\">\n",
       "  <thead>\n",
       "    <tr style=\"text-align: right;\">\n",
       "      <th></th>\n",
       "      <th>반</th>\n",
       "      <th>이름</th>\n",
       "      <th>국어</th>\n",
       "      <th>영어</th>\n",
       "      <th>수학</th>\n",
       "      <th>과학</th>\n",
       "      <th>총점</th>\n",
       "      <th>평균</th>\n",
       "    </tr>\n",
       "  </thead>\n",
       "  <tbody>\n",
       "    <tr>\n",
       "      <th>0</th>\n",
       "      <td>1</td>\n",
       "      <td>성춘향</td>\n",
       "      <td>67</td>\n",
       "      <td>87</td>\n",
       "      <td>90</td>\n",
       "      <td>98</td>\n",
       "      <td>342</td>\n",
       "      <td>85.50</td>\n",
       "    </tr>\n",
       "    <tr>\n",
       "      <th>1</th>\n",
       "      <td>1</td>\n",
       "      <td>이몽룡</td>\n",
       "      <td>45</td>\n",
       "      <td>45</td>\n",
       "      <td>56</td>\n",
       "      <td>98</td>\n",
       "      <td>244</td>\n",
       "      <td>61.00</td>\n",
       "    </tr>\n",
       "    <tr>\n",
       "      <th>2</th>\n",
       "      <td>1</td>\n",
       "      <td>향단이</td>\n",
       "      <td>95</td>\n",
       "      <td>59</td>\n",
       "      <td>96</td>\n",
       "      <td>88</td>\n",
       "      <td>338</td>\n",
       "      <td>84.50</td>\n",
       "    </tr>\n",
       "    <tr>\n",
       "      <th>3</th>\n",
       "      <td>1</td>\n",
       "      <td>방자</td>\n",
       "      <td>65</td>\n",
       "      <td>94</td>\n",
       "      <td>89</td>\n",
       "      <td>98</td>\n",
       "      <td>346</td>\n",
       "      <td>86.50</td>\n",
       "    </tr>\n",
       "    <tr>\n",
       "      <th>4</th>\n",
       "      <td>1</td>\n",
       "      <td>월매</td>\n",
       "      <td>45</td>\n",
       "      <td>65</td>\n",
       "      <td>78</td>\n",
       "      <td>98</td>\n",
       "      <td>286</td>\n",
       "      <td>71.50</td>\n",
       "    </tr>\n",
       "    <tr>\n",
       "      <th>5</th>\n",
       "      <td>1</td>\n",
       "      <td>변학도</td>\n",
       "      <td>78</td>\n",
       "      <td>76</td>\n",
       "      <td>98</td>\n",
       "      <td>89</td>\n",
       "      <td>341</td>\n",
       "      <td>85.25</td>\n",
       "    </tr>\n",
       "  </tbody>\n",
       "</table>\n",
       "</div>"
      ],
      "text/plain": [
       "   반   이름  국어  영어  수학  과학   총점     평균\n",
       "0  1  성춘향  67  87  90  98  342  85.50\n",
       "1  1  이몽룡  45  45  56  98  244  61.00\n",
       "2  1  향단이  95  59  96  88  338  84.50\n",
       "3  1   방자  65  94  89  98  346  86.50\n",
       "4  1   월매  45  65  78  98  286  71.50\n",
       "5  1  변학도  78  76  98  89  341  85.25"
      ]
     },
     "execution_count": 71,
     "metadata": {},
     "output_type": "execute_result"
    }
   ],
   "source": [
    "일반 = df[df['반']==1]\n",
    "이반 = df[df['반']==2]\n",
    "일반"
   ]
  },
  {
   "cell_type": "code",
   "execution_count": 74,
   "metadata": {},
   "outputs": [
    {
     "data": {
      "text/plain": [
       "(79.04166666666667, 77.125)"
      ]
     },
     "execution_count": 74,
     "metadata": {},
     "output_type": "execute_result"
    }
   ],
   "source": [
    "일반평균 = 일반['평균'].sum() / len(일반)\n",
    "이반평균 = 이반['평균'].sum() / len(이반)\n",
    "\n",
    "일반평균, 이반평균"
   ]
  },
  {
   "cell_type": "code",
   "execution_count": 77,
   "metadata": {},
   "outputs": [
    {
     "name": "stdout",
     "output_type": "stream",
     "text": [
      "국어 Ttest_indResult(statistic=-2.490140665442242, pvalue=0.031982494983816424)\n",
      "영어 Ttest_indResult(statistic=-0.61569071526315811, pvalue=0.55185337815288071)\n",
      "수학 Ttest_indResult(statistic=1.4961318778859336, pvalue=0.1654958420079056)\n",
      "과학 Ttest_indResult(statistic=4.3284425553317547, pvalue=0.0014931977711732465)\n"
     ]
    }
   ],
   "source": [
    "for subject in subjects:\n",
    "    print(subject, stats.ttest_ind(\n",
    "        일반[subject], 이반[subject]))"
   ]
  },
  {
   "cell_type": "code",
   "execution_count": 79,
   "metadata": {},
   "outputs": [
    {
     "data": {
      "text/plain": [
       "(94.83333333333333, 69.66666666666667)"
      ]
     },
     "execution_count": 79,
     "metadata": {},
     "output_type": "execute_result"
    }
   ],
   "source": [
    "일반['과학'].sum() / 6, 이반['과학'].sum() / 6"
   ]
  },
  {
   "cell_type": "code",
   "execution_count": 81,
   "metadata": {},
   "outputs": [
    {
     "data": {
      "text/plain": [
       "<matplotlib.axes._subplots.AxesSubplot at 0x2c2f0d00dd8>"
      ]
     },
     "execution_count": 81,
     "metadata": {},
     "output_type": "execute_result"
    },
    {
     "data": {
      "image/png": "[encoded data removed]",
      "text/plain": [
       "<matplotlib.figure.Figure at 0x2c2f0ca7cf8>"
      ]
     },
     "metadata": {},
     "output_type": "display_data"
    }
   ],
   "source": [
    "sorted_df[subjects].plot(kind = 'bar')"
   ]
  },
  {
   "cell_type": "code",
   "execution_count": 83,
   "metadata": {},
   "outputs": [
    {
     "data": {
      "text/plain": [
       "<matplotlib.axes._subplots.AxesSubplot at 0x2c2f103df60>"
      ]
     },
     "execution_count": 83,
     "metadata": {},
     "output_type": "execute_result"
    },
    {
     "data": {
      "image/png": "[encoded data removed]",
      "text/plain": [
       "<matplotlib.figure.Figure at 0x2c2f0e51da0>"
      ]
     },
     "metadata": {},
     "output_type": "display_data"
    }
   ],
   "source": [
    "df[subjects].boxplot()"
   ]
  },
  {
   "cell_type": "code",
   "execution_count": 1,
   "metadata": {},
   "outputs": [
    {
     "ename": "NameError",
     "evalue": "name 'stats' is not defined",
     "output_type": "error",
     "traceback": [
      "\u001b[1;31m---------------------------------------------------------------------------\u001b[0m",
      "\u001b[1;31mNameError\u001b[0m                                 Traceback (most recent call last)",
      "\u001b[1;32m<ipython-input-1-f70f1dc5703f>\u001b[0m in \u001b[0;36m<module>\u001b[1;34m()\u001b[0m\n\u001b[1;32m----> 1\u001b[1;33m \u001b[0mstats\u001b[0m\u001b[1;33m.\u001b[0m\u001b[0mpearsonr\u001b[0m\u001b[1;33m(\u001b[0m\u001b[0mdf\u001b[0m\u001b[1;33m[\u001b[0m\u001b[1;34m'국어'\u001b[0m\u001b[1;33m]\u001b[0m\u001b[1;33m,\u001b[0m \u001b[0mdf\u001b[0m\u001b[1;33m[\u001b[0m\u001b[1;34m'영어'\u001b[0m\u001b[1;33m]\u001b[0m\u001b[1;33m)\u001b[0m\u001b[1;33m\u001b[0m\u001b[0m\n\u001b[0m",
      "\u001b[1;31mNameError\u001b[0m: name 'stats' is not defined"
     ]
    }
   ],
   "source": [
    "stats.pearsonr(df['국어'], df['영어'])"
   ]
  },
  {
   "cell_type": "code",
   "execution_count": 6,
   "metadata": {},
   "outputs": [
    {
     "name": "stdout",
     "output_type": "stream",
     "text": [
      "60\n",
      "[1, 4, 9]\n"
     ]
    }
   ],
   "source": [
    "def sum_all(a,b,c):\n",
    "    return a+b+c\n",
    "\n",
    "print(sum_all(10,20,30))\n",
    "\n",
    "li = [i*i for i in range(1,4)]\n",
    "print(li)\n"
   ]
  },
  {
   "cell_type": "code",
   "execution_count": 11,
   "metadata": {},
   "outputs": [
    {
     "data": {
      "text/plain": [
       "<matplotlib.axes._subplots.AxesSubplot at 0x1c44bf63908>"
      ]
     },
     "execution_count": 11,
     "metadata": {},
     "output_type": "execute_result"
    },
    {
     "data": {
      "image/png": "[encoded data removed]",
      "text/plain": [
       "<matplotlib.figure.Figure at 0x1c44c123c18>"
      ]
     },
     "metadata": {},
     "output_type": "display_data"
    }
   ],
   "source": [
    "\n",
    "import pandas as pd\n",
    "import matplotlib.pyplot as plt\n",
    "\n",
    "df = pd.read_csv(\"dataset/score.csv\")\n",
    "subjects = ['국어','영어','수학','과학']\n",
    "df['총점'] = df[subjects].sum(axis=1)#0=행, 1=열\n",
    "df['평균'] = df['총점'] / len(subjects)\n",
    "\n",
    "sorted_df = df.sort_values(['평균'], ascending=[False])\n",
    "\n",
    "import matplotlib\n",
    "\n",
    "matplotlib.rc('font', family='Malgun Gothic')\n",
    "sorted_df['평균'].plot(kind='bar')"
   ]
  },
  {
   "cell_type": "code",
   "execution_count": 26,
   "metadata": {},
   "outputs": [
    {
     "data": {
      "image/png": "[encoded data removed]",
      "text/plain": [
       "<matplotlib.figure.Figure at 0x1c44d6df748>"
      ]
     },
     "metadata": {},
     "output_type": "display_data"
    }
   ],
   "source": [
    "import pandas as pd\n",
    "import matplotlib.pyplot as plt\n",
    "\n",
    "\n",
    "\n",
    "df = pd.read_csv(\"dataset/score.csv\")\n",
    "subjects =['국어','영어','수학','과학']\n",
    "df['총점'] = df[subjects].sum(axis=1)\n",
    "df['평균'] = df['총점']/ len(subjects)\n",
    "\n",
    "sorted_df = df.sort_values(['평균'], ascending=[False])\n",
    "matplotlib.rc('font', family = '')\n",
    "sorted_df['평균'].plot(kind = 'bar')\n",
    "plt.show()"
   ]
  },
  {
   "cell_type": "code",
   "execution_count": 50,
   "metadata": {},
   "outputs": [
    {
     "data": {
      "text/plain": [
       "<matplotlib.axes._subplots.AxesSubplot at 0x1c44dbbcf98>"
      ]
     },
     "execution_count": 50,
     "metadata": {},
     "output_type": "execute_result"
    },
    {
     "data": {
      "image/png": "[encoded data removed]",
      "text/plain": [
       "<matplotlib.figure.Figure at 0x1c44dca6198>"
      ]
     },
     "metadata": {},
     "output_type": "display_data"
    }
   ],
   "source": [
    "import pandas as pd\n",
    "import matplotlib.pyplot as plt\n",
    "\n",
    "df = pd.read_csv(\"dataset/score.csv\")\n",
    "subjects = [\"국어\",\"영어\",\"수학\", \"과학\"]\n",
    "df['총점'] = df[subjects].sum(axis =1)\n",
    "df['평균'] = df['총점'] / len(subjects)\n",
    "\n",
    "sorted_df = df.sort_values(['평균'], ascending=[False])\n",
    "\n",
    "import matplotlib\n",
    "matplotlib.rc('font', family='Malgun Gothic')\n",
    "sorted_df['평균'].plot(kind='bar')"
   ]
  },
  {
   "cell_type": "code",
   "execution_count": 49,
   "metadata": {},
   "outputs": [
    {
     "name": "stdout",
     "output_type": "stream",
     "text": [
      "0\n",
      "1\n",
      "2\n",
      "3\n",
      "4\n"
     ]
    }
   ],
   "source": [
    "\n",
    "\n",
    "\n",
    "\n",
    "for i in range(5):\n",
    "    print(i)"
   ]
  },
  {
   "cell_type": "code",
   "execution_count": null,
   "metadata": {
    "collapsed": true
   },
   "outputs": [],
   "source": []
  },
  {
   "cell_type": "code",
   "execution_count": null,
   "metadata": {
    "collapsed": true
   },
   "outputs": [],
   "source": []
  },
  {
   "cell_type": "code",
   "execution_count": null,
   "metadata": {
    "collapsed": true
   },
   "outputs": [],
   "source": []
  },
  {
   "cell_type": "code",
   "execution_count": null,
   "metadata": {
    "collapsed": true
   },
   "outputs": [],
   "source": [
    "import pandas as pd\n",
    "import matplotlib.pyplot as plt\n",
    "\n",
    "df = pd.read_csv()\n",
    "subjects = []\n",
    "\n",
    "df['총점'] = df[].sum()axis=1\n",
    "df[] = df[] / len()sub\n",
    "\n",
    "sorted_df = df.sort_values([], ascending = [False])\n",
    "\n",
    "import matplotlib\n",
    "sorted_df[vudrbs].plot(king = '')\n",
    "\n",
    "plt.sho()\n"
   ]
  }
 ],
 "metadata": {
  "kernelspec": {
   "display_name": "Python 3",
   "language": "python",
   "name": "python3"
  },
  "language_info": {
   "codemirror_mode": {
    "name": "ipython",
    "version": 3
   },
   "file_extension": ".py",
   "mimetype": "text/x-python",
   "name": "python",
   "nbconvert_exporter": "python",
   "pygments_lexer": "ipython3",
   "version": "3.6.2"
  }
 },
 "nbformat": 4,
 "nbformat_minor": 2
}
