{
 "cells": [
  {
   "cell_type": "code",
   "execution_count": 2,
   "metadata": {
    "scrolled": false
   },
   "outputs": [
    {
     "name": "stdout",
     "output_type": "stream",
     "text": [
      "Welcome to Python.org\n"
     ]
    },
    {
     "data": {
      "text/plain": [
       "<bound method WebDriver.close of <selenium.webdriver.chrome.webdriver.WebDriver (session=\"9ff485f6cf2ef0b966a15e5d39c00515\")>>"
      ]
     },
     "execution_count": 2,
     "metadata": {},
     "output_type": "execute_result"
    }
   ],
   "source": [
    "#chrome드라이버 다운로드 복사 \n",
    "\n",
    "#!pip install selenium\n",
    "\n",
    "from selenium import webdriver\n",
    "from selenium.webdriver.common.keys import Keys\n",
    "\n",
    "driver = webdriver.Chrome(\"C:/Users/user/2020_programmingcamp/chromedriver.exe\")\n",
    "driver.get(\"https://www.python.org/\")   #python.org화면이 뜰거임.\n",
    "\n",
    "print(driver.title)  #pytho.org에서 f12를 누르면 뜨는 파일에서 확인 가능.\n",
    "\n",
    "assert \"Python\" in driver.title  #안해도 됨. 그냥 python이라는 이름이 그 안에 잇는가.\n",
    "\n",
    "elem = driver.find_element_by_name(\"q\") #검색창\n",
    "elem.clear() #검색창에 있는 글 clear\n",
    "elem.send_keys(\"pycon\")     #pycon 쓰고\n",
    "elem.send_keys(Keys.ENTER)     #검색\n",
    "\n",
    "driver.page_source     #html 소스 가지고 오기. beautifulsoup이랑 연동하면 됨.\n",
    "\n",
    "driver.close"
   ]
  },
  {
   "cell_type": "code",
   "execution_count": 46,
   "metadata": {},
   "outputs": [
    {
     "name": "stdout",
     "output_type": "stream",
     "text": [
      "1위: 네이처셀\n",
      "2위: 너를 만났다\n",
      "3위: mbc 너를 만났다\n",
      "4위: 일본 크루즈\n",
      "5위: 리원량\n",
      "6위: 24번째 확진자\n",
      "7위: 미씽 사라진여자\n",
      "8위: 사이코지만 괜찮아\n",
      "9위: 나연이엄마\n",
      "10위: 이찬원\n",
      "11위: 미스 페레그린과 이상한 아이들의 집\n",
      "12위: 미코\n",
      "13위: 은수미\n",
      "14위: 김용민\n",
      "15위: 도끼\n",
      "16위: 김호중\n",
      "17위: 노지훈\n",
      "18위: 텐센트\n",
      "19위: 라정찬\n",
      "20위: 알테오젠\n"
     ]
    }
   ],
   "source": [
    "#네이버 실검 크롤링\n",
    "\n",
    "from selenium import webdriver\n",
    "from bs4 import BeautifulSoup\n",
    "import time\n",
    "\n",
    "url =\"https://www.naver.com/\"\n",
    "driver = webdriver.Chrome(\"C:/Users/user/2020_programmingcamp/chromedriver.exe\")\n",
    "driver.get(url)\n",
    "time.sleep(3)  #새로운 페이지 들어갈때는 딜레이 해주기\n",
    "\n",
    "soup = BeautifulSoup(driver.page_source, \"lxml\")\n",
    "\n",
    "spans = soup.select('#NM_RTK_ROLLING_WRAP span.ah_k')  #html보고 급상승찾은것.\n",
    "top20 = [ span.string for span in spans[:-1]]\n",
    "for idx, val in enumerate(top20):\n",
    "    print(idx+1,\"위: \", val, sep=\"\")"
   ]
  },
  {
   "cell_type": "code",
   "execution_count": 45,
   "metadata": {},
   "outputs": [
    {
     "name": "stdout",
     "output_type": "stream",
     "text": [
      "1위: 네이처셀\n",
      "2위: 너를 만났다\n",
      "3위: mbc 너를 만났다\n",
      "4위: 일본 크루즈\n",
      "5위: 리원량\n",
      "6위: 24번째 확진자\n",
      "7위: 미씽 사라진여자\n",
      "8위: 사이코지만 괜찮아\n",
      "9위: 나연이엄마\n",
      "10위: 이찬원\n",
      "11위: 미스 페레그린과 이상한 아이들의 집\n",
      "12위: 미코\n",
      "13위: 은수미\n",
      "14위: 김용민\n",
      "15위: 도끼\n",
      "16위: 김호중\n",
      "17위: 노지훈\n",
      "18위: 텐센트\n",
      "19위: 라정찬\n",
      "20위: 알테오젠\n"
     ]
    }
   ],
   "source": [
    "#실검 URL 찾아서 검색\n",
    "\n",
    "import requests\n",
    "from bs4 import BeautifulSoup\n",
    "import json \n",
    "\n",
    "url =\"https://www.naver.com/srchrank?frm=main&ag=all&gr=1&ma=-2&si=0&en=0&sp=0\"  #f12에서 Network의 XHR에서 가져옴.\n",
    "html = requests.get(url).text\n",
    "soup = BeautifulSoup(html, \"lxml\")\n",
    "\n",
    "js_data = json.loads(soup.text)\n",
    "ranks= [ (i['rank'], i['keyword']) for i in js_data['data']]\n",
    "for rank, keyword in ranks:\n",
    "    print(rank,\"위: \", keyword, sep=\"\")"
   ]
  },
  {
   "cell_type": "code",
   "execution_count": 64,
   "metadata": {},
   "outputs": [
    {
     "name": "stdout",
     "output_type": "stream",
     "text": [
      "1 위, 제목:  아무노래 , 가수:  지코 (ZICO)\n",
      "2 위, 제목:  METEOR , 가수:  창모 (CHANGMO)\n",
      "3 위, 제목:  Psycho , 가수:  Red Velvet (레드벨벳)\n",
      "4 위, 제목:  다시 난, 여기 , 가수:  백예린\n",
      "5 위, 제목:  Black Swan , 가수:  방탄소년단\n",
      "6 위, 제목:  Blueming , 가수:  아이유\n",
      "7 위, 제목:  작은 것들을 위한 시 (Boy With Luv) (Feat. Halsey) , 가수:  방탄소년단\n",
      "8 위, 제목:  늦은 밤 너의 집 앞 골목길에서 , 가수:  노을\n",
      "9 위, 제목:  HIP , 가수:  마마무(Mamamoo)\n",
      "10 위, 제목:  너를 사랑하고 있어 , 가수:  백현 (BAEKHYUN)\n",
      "11 위, 제목:  흔들리는 꽃들 속에서 네 샴푸향이 느껴진거야 , 가수:  장범준\n",
      "12 위, 제목:  아마두 (feat.우원재, 김효은, 넉살, Huckleberry P) , 가수:  염따\n",
      "13 위, 제목:  봄날 , 가수:  방탄소년단\n",
      "14 위, 제목:  어떻게 이별까지 사랑하겠어, 널 사랑하는 거지 , 가수:  AKMU (악동뮤지션)\n",
      "15 위, 제목:  Square (2017) , 가수:  백예린\n",
      "16 위, 제목:  Love poem , 가수:  아이유\n",
      "17 위, 제목:  소우주 (Mikrokosmos) , 가수:  방탄소년단\n",
      "18 위, 제목:  빌었어 , 가수:  창모 (CHANGMO)\n",
      "19 위, 제목:  오늘도 빛나는 너에게 (To You My Light) (Feat.이라온) , 가수:  마크툽 (MAKTUB)\n",
      "20 위, 제목:  안녕 , 가수:  폴킴\n",
      "21 위, 제목:  IDOL , 가수:  방탄소년단\n",
      "22 위, 제목:  다시는 사랑하지 않고, 이별에 아파하기 싫어 , 가수:  백지영\n",
      "23 위, 제목:  사랑이란 멜로는 없어 , 가수:  전상근\n",
      "24 위, 제목:  조금 취했어 (Prod. 2soo) , 가수:  임재현\n",
      "25 위, 제목:  나의 오랜 연인에게 , 가수:  다비치\n",
      "26 위, 제목:  2002 , 가수:  Anne-Marie\n",
      "27 위, 제목:  마음이 말하는 행복 (Happiness) (Feat.이라온) , 가수:  마크툽 (MAKTUB)\n",
      "28 위, 제목:  Make It Right , 가수:  방탄소년단\n",
      "29 위, 제목:  Flower , 가수:  윤미래\n",
      "30 위, 제목:  모든 날, 모든 순간 (Every day, Every Moment) , 가수:  폴킴\n",
      "31 위, 제목:  어떤 날엔 , 가수:  김재환\n",
      "32 위, 제목:  헤어진 우리가 지켜야 할 것들 , 가수:  김나영\n",
      "33 위, 제목:  Dionysus , 가수:  방탄소년단\n",
      "34 위, 제목:  다시 만날까 봐 , 가수:  V.O.S\n",
      "35 위, 제목:  Into the Unknown (From \"Frozen 2\"/Soundtrack Version) , 가수:  Idina Menzel\n",
      "36 위, 제목:  Obsession , 가수:  EXO\n",
      "37 위, 제목:  bad guy , 가수:  Billie Eilish\n",
      "38 위, 제목:  Loveship , 가수:  폴킴\n",
      "39 위, 제목:  시든 꽃에 물을 주듯 , 가수:  HYNN (박혜원)\n",
      "40 위, 제목:  있어줘요 , 가수:  장덕철\n",
      "41 위, 제목:  새 사랑 , 가수:  송하예\n",
      "42 위, 제목:  기억해줘요 내 모든 날과 그때를 , 가수:  거미\n",
      "43 위, 제목:  포장마차 , 가수:  황인욱\n",
      "44 위, 제목:  내 마음의 사진 , 가수:  송가인\n",
      "45 위, 제목:  내게 들려주고 싶은 말 (Dear Me) , 가수:  태연 (TAEYEON)\n",
      "46 위, 제목:  Go away go away , 가수:  찬열 (CHANYEOL)\n",
      "47 위, 제목:  BAND , 가수:  창모 (CHANGMO)\n",
      "48 위, 제목:  너를 만나 , 가수:  폴킴\n",
      "49 위, 제목:  교차로 (Crossroads) , 가수:  여자친구 (GFRIEND)\n",
      "50 위, 제목:  인기 (Feat. 송가인, 챈슬러) , 가수:  MC몽\n"
     ]
    }
   ],
   "source": [
    "#멜론 user-agent 포함해서 보내기\n",
    "import requests\n",
    "from bs4 import BeautifulSoup\n",
    "url=\"https://www.melon.com/chart/index.htm\"\n",
    "headers = {'User-agent': 'Mozilla/5.0'}\n",
    "html = requests.get(url, headers=headers).text\n",
    "soup =BeautifulSoup(html,\"lxml\")\n",
    "songs = soup.select(\"#lst50\")\n",
    "for idx, song in enumerate(songs):\n",
    "    title = song.select_one(\"div.ellipsis.rank01 > span > a\").text\n",
    "    single = song.select_one(\"div.ellipsis.rank02 > a\").text\n",
    "    print(idx+1,'위, 제목: ',title,\", 가수: \",single)"
   ]
  },
  {
   "cell_type": "code",
   "execution_count": 74,
   "metadata": {},
   "outputs": [],
   "source": [
    "from selenium import webdriver\n",
    "from bs4 import BeautifulSoup\n",
    "from selenium.webdriver.common.by import By\n",
    "import time\n",
    "\n",
    "\n",
    "main_url = \"http://tour.interpark.com/\"\n",
    "keyword = \"파리\"\n",
    "tour_list = []\n",
    "\n",
    "driver = webdriver.Chrome(\"C:/Users/user/2020_programmingcamp/chromedriver.exe\")\n",
    "driver.get(main_url)   #main_url화면이 뜰거임.\n",
    "time.sleep(3)\n"
   ]
  },
  {
   "cell_type": "code",
   "execution_count": 77,
   "metadata": {},
   "outputs": [],
   "source": [
    "from random import uniform\n",
    "elem = driver.find_element_by_id(\"SearchGNBText\")\n",
    "elem.clear() #검색창에 있는 글 clear\n",
    "elem.send_keys(keyword)     #keyword 쓰고\n",
    "driver.find_element_by_css_selector(\"button.search-btn\").click() #마땅한 id나 clas가 없다면 모바일버저으로 들어가는 것도 하나의 방법임.\n",
    "time.sleep(uniform(2,5))  #새로운 페이지 들어갈때는 딜레이 해주기"
   ]
  },
  {
   "cell_type": "code",
   "execution_count": 80,
   "metadata": {},
   "outputs": [],
   "source": [
    "driver.find_element_by_id(\"li_R\").click()\n",
    "time.sleep(uniform(2,5))  #새로운 페이지 들어갈때는 딜레이 해주기"
   ]
  },
  {
   "cell_type": "code",
   "execution_count": 91,
   "metadata": {},
   "outputs": [
    {
     "name": "stdout",
     "output_type": "stream",
     "text": [
      "error Message: chrome not reachable\n",
      "  (Session info: chrome=80.0.3987.87)\n",
      "\n",
      "error Message: chrome not reachable\n",
      "  (Session info: chrome=80.0.3987.87)\n",
      "\n"
     ]
    }
   ],
   "source": [
    "# 2,3...페이지로 넘어가는 js파일 searchModule.SetCategoryList(2, '')\n",
    "\n",
    "for page in range(1,3):\n",
    "    try:\n",
    "        driver.execute_script(\"searchModule.SetCategoryList({}, '')\".format(page))  \n",
    "        print(\"{}페이지로 이동함@!\".format(page))\n",
    "        time.sleep(uniform(2,5))  #새로운 페이지 들어갈때는 딜레이 해주기\n",
    "        \n",
    "        boxItems = driver.find_elements_by_css_selector(\"div.panelZone > div.oTravelBox > ul > li\")\n",
    "        #print(boxItems)\n",
    "        for li in boxItems:\n",
    "            print(\"상품명:\", li.find_element_by_css_selector(\"h5.proTit\").text)\n",
    "            print(\"링크:\", li.find_element_by_css_selector(\"a\").get_attribute(\"onclick\"))\n",
    "            print(\"코멘트:\", li.find_element_by_css_selector(\"p.proSub\").text)\n",
    "            print(\"가격:\", li.find_element_by_css_selector(\"strong.proPrice\").text)\n",
    "\n",
    "            print()\n",
    "            \n",
    "    except Exception as e:\n",
    "        print(\"error\", e)\n",
    "\n",
    "    "
   ]
  },
  {
   "cell_type": "code",
   "execution_count": null,
   "metadata": {
    "collapsed": true
   },
   "outputs": [],
   "source": []
  }
 ],
 "metadata": {
  "kernelspec": {
   "display_name": "Python 3",
   "language": "python",
   "name": "python3"
  },
  "language_info": {
   "codemirror_mode": {
    "name": "ipython",
    "version": 3
   },
   "file_extension": ".py",
   "mimetype": "text/x-python",
   "name": "python",
   "nbconvert_exporter": "python",
   "pygments_lexer": "ipython3",
   "version": "3.6.2"
  }
 },
 "nbformat": 4,
 "nbformat_minor": 2
}
